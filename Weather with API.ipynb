{
 "cells": [
  {
   "cell_type": "code",
   "execution_count": 1,
   "metadata": {},
   "outputs": [],
   "source": [
    "import typing\n",
    "import requests"
   ]
  },
  {
   "cell_type": "code",
   "execution_count": 2,
   "metadata": {},
   "outputs": [],
   "source": [
    "def request(lat, lon):\n",
    "    \n",
    "    API_URL = \"https://api.weather.yandex.ru/v1/forecast/\"\n",
    "    PARAMS = {\"lat\" : lat,\n",
    "              \"lon\" : lon,\n",
    "              \"lang\" : \"ru-RU\"\n",
    "             }\n",
    "    HEADERS = {\"X-Yandex-API-Key\": \"my_api_key :) \"}\n",
    "    \n",
    "    response = requests.get(\n",
    "        API_URL, params=PARAMS, headers=HEADERS\n",
    "    )\n",
    "\n",
    "    if response.status_code != 200:\n",
    "        print(\"Non-200 response from API\")\n",
    "        return dict()\n",
    "\n",
    "    return response.json()"
   ]
  },
  {
   "cell_type": "code",
   "execution_count": 3,
   "metadata": {},
   "outputs": [],
   "source": [
    "def get_weather(lat, lon):\n",
    "    resp_d = request(lat, lon)\n",
    "    \n",
    "    weather = {'location': resp_d['info']['tzinfo']['name'],\n",
    "               'temperature': resp_d['fact']['temp'],\n",
    "               'feels_like': resp_d['fact']['feels_like'],\n",
    "               'wind_speed': resp_d['fact']['wind_speed']\n",
    "              }\n",
    "    \n",
    "    return weather"
   ]
  },
  {
   "cell_type": "code",
   "execution_count": 4,
   "metadata": {},
   "outputs": [
    {
     "data": {
      "text/plain": [
       "{'location': 'Europe/Moscow',\n",
       " 'temperature': 1,\n",
       " 'feels_like': -2,\n",
       " 'wind_speed': 1.6}"
      ]
     },
     "execution_count": 4,
     "metadata": {},
     "output_type": "execute_result"
    }
   ],
   "source": [
    "get_weather(55.7522, 37.6156)"
   ]
  }
 ],
 "metadata": {
  "kernelspec": {
   "display_name": "Python 3",
   "language": "python",
   "name": "python3"
  },
  "language_info": {
   "codemirror_mode": {
    "name": "ipython",
    "version": 3
   },
   "file_extension": ".py",
   "mimetype": "text/x-python",
   "name": "python",
   "nbconvert_exporter": "python",
   "pygments_lexer": "ipython3",
   "version": "3.7.1"
  }
 },
 "nbformat": 4,
 "nbformat_minor": 2
}
